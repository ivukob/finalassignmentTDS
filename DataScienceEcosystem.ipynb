{
 "cells": [
  {
   "cell_type": "markdown",
   "id": "a62ec108-8953-4859-90cf-79dfd2d7365e",
   "metadata": {},
   "source": [
    "# Data Science Tools and Ecosystem"
   ]
  },
  {
   "cell_type": "markdown",
   "id": "becad90c-4b9a-49d2-9004-9d7b578a3e1f",
   "metadata": {},
   "source": [
    "In this notebook, Data Science Tools and Ecosystems are summarized."
   ]
  },
  {
   "cell_type": "markdown",
   "id": "555bfaf1-4827-4a27-b54e-dedd360995ee",
   "metadata": {},
   "source": [
    "__Objectives__\n",
    "\n",
    "- List popular languages for Data Science\n",
    "- List commonly used libraries for Data Science\n",
    "- Create different markdown cells\n",
    "- Create different code cells"
   ]
  },
  {
   "cell_type": "markdown",
   "id": "1f3b12fa-f4c0-464b-a7de-9b0c6fb1ea02",
   "metadata": {},
   "source": [
    "Some of the popular languages the Data Scientist use are:\n",
    "1. Python\n",
    "2. Julia\n",
    "3. R"
   ]
  },
  {
   "cell_type": "markdown",
   "id": "31d46682-f7e4-47da-91e9-c16c828c4a24",
   "metadata": {},
   "source": [
    "Some of the commonly used libraries by Data Scientists include:\n",
    "1. Pandas\n",
    "2. NumPy\n",
    "3. Matplotlib"
   ]
  },
  {
   "cell_type": "markdown",
   "id": "e7766766-a16c-4e12-9fbf-d220fdfa589f",
   "metadata": {},
   "source": [
    "|Data Science Tools|\n",
    "|--------|\n",
    "|Jupyter Notebooks|\n",
    "|Apache Zeppelin|\n",
    "|R Studio|"
   ]
  },
  {
   "cell_type": "markdown",
   "id": "5fe3cc51-850b-4b0a-bdb9-7ff3d891e53d",
   "metadata": {},
   "source": [
    "### Below are a few examples of evaluating arithmetic expressions in Python."
   ]
  },
  {
   "cell_type": "code",
   "execution_count": 1,
   "id": "402ee239-3fab-43fd-b8c1-25d68b2ccc5f",
   "metadata": {
    "tags": []
   },
   "outputs": [
    {
     "data": {
      "text/plain": [
       "17"
      ]
     },
     "execution_count": 1,
     "metadata": {},
     "output_type": "execute_result"
    }
   ],
   "source": [
    "# This is a simple arithmetic expression to multiply then add integers.\n",
    "(3*4)+5"
   ]
  },
  {
   "cell_type": "code",
   "execution_count": 2,
   "id": "4e0db351-c795-4d9b-87e2-52bd37224ed9",
   "metadata": {
    "tags": []
   },
   "outputs": [
    {
     "data": {
      "text/plain": [
       "33.333333333333336"
      ]
     },
     "execution_count": 2,
     "metadata": {},
     "output_type": "execute_result"
    }
   ],
   "source": [
    "# This will convert 200 minutes to hours by dividing by 60.\n",
    "200/6"
   ]
  },
  {
   "cell_type": "markdown",
   "id": "ae218857-f817-4798-a97e-6c4c79c22f3f",
   "metadata": {},
   "source": [
    "## Author ##\n",
    "Igor Vukobradovic"
   ]
  },
  {
   "cell_type": "code",
   "execution_count": null,
   "id": "3baef8be-0ca9-4ce8-a1f3-7a152e62b9f3",
   "metadata": {},
   "outputs": [],
   "source": []
  }
 ],
 "metadata": {
  "kernelspec": {
   "display_name": "Python",
   "language": "python",
   "name": "conda-env-python-py"
  },
  "language_info": {
   "codemirror_mode": {
    "name": "ipython",
    "version": 3
   },
   "file_extension": ".py",
   "mimetype": "text/x-python",
   "name": "python",
   "nbconvert_exporter": "python",
   "pygments_lexer": "ipython3",
   "version": "3.7.12"
  }
 },
 "nbformat": 4,
 "nbformat_minor": 5
}
